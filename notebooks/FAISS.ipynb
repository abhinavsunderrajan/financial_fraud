{
 "cells": [
  {
   "cell_type": "code",
   "execution_count": 1,
   "id": "5444ec28-c16c-4525-94e0-b47bf41c5ead",
   "metadata": {},
   "outputs": [],
   "source": [
    "import re\n",
    "import json\n",
    "import numpy as np\n",
    "import pandas as  pd\n",
    "from pprint import pprint# Gensim\n",
    "from tqdm import tqdm\n",
    "import matplotlib.pyplot as plt\n",
    "import string\n",
    "from glob import glob\n",
    "import random\n",
    "%matplotlib inline"
   ]
  },
  {
   "cell_type": "markdown",
   "id": "a3276a41-1631-402f-9458-963870c18d54",
   "metadata": {},
   "source": [
    "### AI generated summaries of sec data and reuters\n",
    "\n",
    "Add the original source so that we can attribute the original articles"
   ]
  },
  {
   "cell_type": "markdown",
   "id": "8e288030-2a14-4285-848e-2e026c55637d",
   "metadata": {},
   "source": [
    "#### SEC summary"
   ]
  },
  {
   "cell_type": "code",
   "execution_count": null,
   "id": "05acae49-9273-4412-aa22-e320e4368daf",
   "metadata": {},
   "outputs": [],
   "source": [
    "def get_file_name(row):\n",
    "    respondents = row[\"Respondents\"].replace('\\n', ' ')\n",
    "    respondents = respondents.translate(str.maketrans('', '', string.punctuation))\n",
    "    links = row[\"Link\"]\n",
    "    date = row[\"Date\\nSort descending\"]\n",
    "    file_name = f\"./sec_text/{date}_{respondents.split(',')[0][:15]}_link_\"\n",
    "    return file_name\n",
    "\n",
    "\n",
    "all_lits = [pd.read_csv(file) for file in glob(\"./sec_data/*csv\")]\n",
    "all_lits_sec = pd.concat(all_lits, ignore_index=True)\n",
    "all_lits_sec[\"year\"] = all_lits_sec[\"Date\\nSort descending\"].apply(lambda x: int(x.split(',')[1].strip()))\n",
    "all_lits_sec = all_lits_sec.sort_values(by=[\"year\"], ascending=False)\n",
    "all_lits_sec[\"file_name\"] = all_lits_sec.apply(get_file_name, axis=1)\n",
    "all_lits_sec.reset_index(inplace=True, drop=True)\n",
    "fName_link_map = {}\n",
    "for k,v in zip(list(all_lits_sec[\"file_name\"]), list(all_lits_sec[\"Link\"])):\n",
    "    fName_link_map[k] = v"
   ]
  },
  {
   "cell_type": "code",
   "execution_count": null,
   "id": "9970d56b-249d-4319-a4e4-44480dd794bb",
   "metadata": {},
   "outputs": [],
   "source": [
    "sec_summaries = []\n",
    "x = string.punctuation\n",
    "x = x.replace('_', \"\")\n",
    "\n",
    "for json_file in glob(\"sec_json/*.json\"):\n",
    "    with open(json_file) as f:\n",
    "        base_file_name = json_file.replace(\".txt.json\", \"\").replace(\"sec_json\", \"./sec_text\")[:-1]\n",
    "        # print(base_file_name)\n",
    "        splits = base_file_name.split(\", \")\n",
    "        base_file_name = splits[0]+\", \"+splits[1].translate(str.maketrans('', '', x))\n",
    "        original_article_links = fName_link_map.get(base_file_name, \"\")\n",
    "        if len(original_article_links) ==0:\n",
    "            try_again = base_file_name.replace(\"_link_\", \"\")\n",
    "            original_article_links = all_lits_sec.loc[all_lits_sec.file_name.str.contains(try_again)][\"Link\"].values[0]\n",
    "            # print(original_article_links)\n",
    "        d = json.load(f)\n",
    "        sec_summaries.append(f\"Litigants\\n{d['litigants']}\\nSummary\\n{d['summary']}\\nLinks to original article\\n{original_article_links}\")"
   ]
  },
  {
   "cell_type": "markdown",
   "id": "caf9326b-4451-4859-af31-8f1230f9afef",
   "metadata": {},
   "source": [
    "#### Reuters News API"
   ]
  },
  {
   "cell_type": "code",
   "execution_count": null,
   "id": "1bcfaf15-84b4-4b72-a329-d2bc9b0b2a74",
   "metadata": {},
   "outputs": [],
   "source": [
    "def get_file_name(row):\n",
    "    file = row['link_url'].split(\"/\")[-1]\n",
    "    if len(file) ==0:\n",
    "        file = row['link_url'].split(\"/\")[-2]\n",
    "    if len(file) >50:\n",
    "        file = file[:50]\n",
    "    return file\n",
    "\n",
    "csv_files = [\"/Users/abhinav.sunderrajan/Desktop/finacial_fraudsters/csv/all_newsapi_scraped.csv\",\n",
    "                 \"/Users/abhinav.sunderrajan/Desktop/finacial_fraudsters/csv/all_reuters_scraped.csv\"]\n",
    "newapi_reuters_df = pd.concat([pd.read_csv(file)[['link_url', 'article']] for file in csv_files], ignore_index=True)\n",
    "newapi_reuters_df[\"file_name\"] = newapi_reuters_df.apply(lambda row: get_file_name(row), axis=1)\n",
    "\n",
    "fName_link_map = {}\n",
    "for k,v in zip(list(newapi_reuters_df[\"file_name\"]), list(newapi_reuters_df[\"link_url\"])):\n",
    "    fName_link_map[k] = v\n",
    "\n",
    "\n",
    "news_api_reuters = []\n",
    "for json_file in glob(\"reuter_newsapi_json/*.json\"):\n",
    "    with open(json_file) as f:\n",
    "        d = json.load(f)\n",
    "        if len(d['summary']) == 0:\n",
    "            continue\n",
    "        json_file_name = json_file.strip(\".json\").split(\"/\")[1][:45]\n",
    "        tmp_df = newapi_reuters_df.loc[newapi_reuters_df.file_name.str.contains(json_file_name)]\n",
    "        if(len(tmp_df)) == 0:\n",
    "            print(json_file)\n",
    "            continue\n",
    "            \n",
    "        original_article_links = tmp_df.link_url.values[0]\n",
    "        news_api_reuters.append(f\"Article category\\n{d['article_category']}\\nPeople mentioned\\n{d['people_mentioned']}\\nSummary\\n{d['summary']}\\nLinks to original article\\n{original_article_links}\")"
   ]
  },
  {
   "cell_type": "code",
   "execution_count": null,
   "id": "b71ccf75-ba84-4c8d-92f4-c0ab3edb5215",
   "metadata": {},
   "outputs": [],
   "source": [
    "print(news_api_reuters[0])"
   ]
  },
  {
   "cell_type": "markdown",
   "id": "9ae11aa5-185d-4e22-82ac-b4de40598893",
   "metadata": {},
   "source": [
    "### MAS scraped data"
   ]
  },
  {
   "cell_type": "code",
   "execution_count": null,
   "id": "fdb98f13-0fe8-4b34-93e4-81b69e0601b4",
   "metadata": {},
   "outputs": [],
   "source": [
    "mas_data = pd.read_csv(\"./csv/mas_enforcement_actions.csv\")\n",
    "mas_data[\"economic_offense_strip\"] = mas_data.economic_offense.apply(lambda x: x.split(\"Published Date:\")[1].split(\"Subscribe to Updates\")[0].strip(\"Monetary Authority of Singapore\\n \\n \"))"
   ]
  },
  {
   "cell_type": "code",
   "execution_count": null,
   "id": "5f978705-21db-471a-9634-6208f132601a",
   "metadata": {},
   "outputs": [],
   "source": [
    "def get_mas_input(row):\n",
    "    return f\"\"\"\n",
    "    Person/Company\n",
    "    {row['Person/Company']}\n",
    "    Action Type\n",
    "    {row['Action Type']}\n",
    "    Title\n",
    "    {row['Title']}\n",
    "    Article\n",
    "    {row['economic_offense_strip']}\n",
    "    Links to original article\n",
    "    {row['url_link']}\n",
    "    \"\"\"\n",
    "mas_data[\"mas_data\"] = mas_data.apply(lambda row:get_mas_input(row), axis=1)"
   ]
  },
  {
   "cell_type": "markdown",
   "id": "83c7785f-4cf7-43cf-9887-4cc81dceb68c",
   "metadata": {},
   "source": [
    "### UNSC sanctions"
   ]
  },
  {
   "cell_type": "code",
   "execution_count": 2,
   "id": "ef61cd40-57c6-4275-bd19-03f849a97a6a",
   "metadata": {},
   "outputs": [],
   "source": [
    "def get_unsc_inidvidual_details(row):\n",
    "    person = row[\"FIRST_NAME\"]+\" \"+row[\"SECOND_NAME\"]\n",
    "    person = person.title()\n",
    "    org_or_country = row[\"UN_LIST_TYPE\"]\n",
    "    nationality = row[\"NATIONALITY\"]\n",
    "    year_of_birth = int(row[\"DATE_OF_BIRTH\"])\n",
    "    if year_of_birth == 0:\n",
    "        year_of_birth = \"an unknown date\"\n",
    "    info = row[\"COMMENTS1\"]\n",
    "    if org_or_country == nationality:\n",
    "        org_or_country = \"\"\n",
    "    else:\n",
    "        org_or_country = f\"belonging to {org_or_country}\"    \n",
    "    return f\"{person} born on {year_of_birth} is a UNSC sanctioned individual listed on {row['LISTED_ON']} from {nationality} {org_or_country}. More details:\\n{info}\"\n",
    "\n",
    "def get_unsc_entity_details(row):\n",
    "    org_name = row[\"FIRST_NAME\"].title()\n",
    "    org_affliation = row[\"UN_LIST_TYPE\"]\n",
    "    info = row[\"COMMENTS1\"]\n",
    "    return f\"{org_name} is a UNSC sanctioned organization listed on {row['LISTED_ON']} affiliated with {org_affliation}. More details:\\n{info}\"\n",
    "\n"
   ]
  },
  {
   "cell_type": "code",
   "execution_count": 3,
   "id": "971ff2b0-1db2-46ff-a347-a1b1c592d17a",
   "metadata": {},
   "outputs": [],
   "source": [
    "unsc_individual = pd.read_csv(\"./csv/unsc_sanctioned_individuals.csv\")\n",
    "unsc_individual[\"SECOND_NAME\"] = unsc_individual[\"SECOND_NAME\"].fillna(\"\")\n",
    "unsc_individual[\"THIRD_NAME\"] = unsc_individual[\"THIRD_NAME\"].fillna(\"\")\n",
    "unsc_individual[\"DATE_OF_BIRTH\"] = unsc_individual[\"DATE_OF_BIRTH\"].fillna(0)\n",
    "unsc_individual[\"COMMENTS1\"] = unsc_individual[\"COMMENTS1\"].fillna(0)       \n",
    "unsc_individual[\"consolidated_string\"] = unsc_individual.apply(get_unsc_inidvidual_details, axis=1)"
   ]
  },
  {
   "cell_type": "code",
   "execution_count": 4,
   "id": "d122e1ef-526b-42e6-bc51-962d0522adc4",
   "metadata": {},
   "outputs": [],
   "source": [
    "unsc_entity = pd.read_csv(\"./csv/unsc_sanctioned_individuals_entities.csv\")\n",
    "unsc_entity[\"COMMENTS1\"] = unsc_entity[\"COMMENTS1\"].fillna(0)\n",
    "unsc_entity[\"consolidated_string\"] = unsc_entity.apply(get_unsc_entity_details, axis=1)"
   ]
  },
  {
   "cell_type": "code",
   "execution_count": 7,
   "id": "13f16b60-4252-4783-b627-e531ccc6698d",
   "metadata": {},
   "outputs": [
    {
     "name": "stdout",
     "output_type": "stream",
     "text": [
      "Al-Qaida In Iraq is a UNSC sanctioned organization listed on 2004-10-18 affiliated with Al-Qaida. More details:\n",
      "Review pursuant to Security Council resolution 1822 (2008) was concluded\n",
      "on 25 May 2010. \n",
      "Review pursuant to Security Council resolution 2368 (2017) was concluded on 24 November 2020.\n",
      "\n",
      " INTERPOL-UN Security Council Special Notice web link:https://www.interpol.int/en/How-we-work/Notices/View-UN-Notices-Individuals\n"
     ]
    }
   ],
   "source": [
    "print(unsc_entity.sample(1).consolidated_string.values[0])"
   ]
  },
  {
   "cell_type": "markdown",
   "id": "711b0cdc-7da5-424e-9041-b99c2293211f",
   "metadata": {},
   "source": [
    "### Interpol data"
   ]
  },
  {
   "cell_type": "code",
   "execution_count": 8,
   "id": "09076569-8dcc-4a11-bb42-e5ae64d8d977",
   "metadata": {},
   "outputs": [],
   "source": [
    "country_code = pd.read_csv(\"./csv/country_code.csv\")\n",
    "country_code = country_code[[\"name\", \"alpha-2\"]]\n",
    "country_code = country_code.loc[~country_code[\"alpha-2\"].isna()]\n",
    "country_code[\"alpha-2\"] = country_code[\"alpha-2\"].apply(lambda x: x.lower())\n",
    "\n",
    "code_dict = {}\n",
    "for key, val in zip(list(country_code[\"alpha-2\"]), list(country_code[\"name\"])):\n",
    "    code_dict[key] = val\n",
    "\n",
    "def get_interpol_details(row):\n",
    "    person = row[\"name\"]\n",
    "    person = person.title()\n",
    "    nationality = row[\"countries\"]  \n",
    "    nationality_ls = nationality.split(\";\")\n",
    "    nationality_ls = [code_dict.get(nation, \"\") for nation in nationality_ls]\n",
    "    nationality = \";\".join(nationality_ls)\n",
    "    interpol_notice = row[\"dataset\"]\n",
    "    info = row[\"sanctions\"]\n",
    "    return f\"{person} from {nationality} has an {interpol_notice}. More details:\\n{info}\"\n",
    "\n",
    "inidviduals = pd.read_csv(\"./csv/interpol_1.csv\")\n",
    "inidviduals[\"countries\"] = inidviduals[\"countries\"].fillna(\"\")\n",
    "inidviduals[\"interpol_details\"] = inidviduals.apply(get_interpol_details, axis=1)"
   ]
  },
  {
   "cell_type": "code",
   "execution_count": 10,
   "id": "3d1c7fd4-1bb0-4ca9-8396-159862790797",
   "metadata": {},
   "outputs": [
    {
     "name": "stdout",
     "output_type": "stream",
     "text": [
      "Sebastian Enrique Marset Cabrera from Uruguay has an INTERPOL Red Notices. More details:\n",
      "Red Notice - TRAFICO ILICITO DE ESTUPEFACIENTES Y DROGAS PELIGROSAS, ASOCIACION CRIMINAL Y LAVADO DE DINERO.\n"
     ]
    }
   ],
   "source": [
    "print(inidviduals[\"interpol_details\"].sample(1).values[0])"
   ]
  },
  {
   "cell_type": "markdown",
   "id": "b2c3c0f3-8747-4b48-881f-4d19255b6f2b",
   "metadata": {},
   "source": [
    "### OFAC data"
   ]
  },
  {
   "cell_type": "code",
   "execution_count": null,
   "id": "f885446d-541f-42a5-a79d-19e238f5960e",
   "metadata": {},
   "outputs": [],
   "source": [
    "def ofac_details(row):\n",
    "    name = row[\"LAST_NAME\"].lower().title()\n",
    "    sdn_type = row[\"SDN_TYPE\"]\n",
    "    program = row[\"PROGRAMS\"]\n",
    "    address = row[\"ADDRESSES\"]\n",
    "    return f\"{name} is a OFAC santioned {sdn_type} with program {program} with address {address}\"\n",
    "    \n",
    "    \n",
    "\n",
    "ofac_list = pd.read_csv(\"./csv/ofac_list.csv\")\n",
    "ofac_list.fillna(\"\", inplace=True)\n",
    "ofac_list[\"ofac_details\"] = ofac_list.apply(ofac_details, axis=1)"
   ]
  },
  {
   "cell_type": "markdown",
   "id": "2339e400-1a79-4b31-a382-bfa9ed7a986b",
   "metadata": {},
   "source": [
    "### Collate all documents"
   ]
  },
  {
   "cell_type": "code",
   "execution_count": null,
   "id": "8bf5941f-44b4-482e-9f3d-d197a53f3535",
   "metadata": {},
   "outputs": [],
   "source": [
    "all_docs = []\n",
    "all_docs.extend(sec_summaries)\n",
    "all_docs.extend(news_api_reuters)\n",
    "all_docs.extend(list(mas_data[\"mas_data\"]))\n",
    "all_docs.extend(list(unsc_individual[\"consolidated_string\"]))\n",
    "all_docs.extend(list(unsc_entity[\"consolidated_string\"]))\n",
    "all_docs.extend(list(inidviduals[\"interpol_details\"]))\n",
    "all_docs.extend(list(ofac_list[\"ofac_details\"]))\n",
    "len(all_docs)"
   ]
  },
  {
   "cell_type": "code",
   "execution_count": null,
   "id": "63d2efe0-ff99-46f8-8827-9a837c9552f1",
   "metadata": {},
   "outputs": [],
   "source": [
    "all_docs = [doc for doc in all_docs if len(doc) > 10]\n",
    "len(all_docs)"
   ]
  },
  {
   "cell_type": "markdown",
   "id": "f81c1f6b-5a67-4a73-b6da-a6e278ae5fdd",
   "metadata": {},
   "source": [
    "### Vector encoding"
   ]
  },
  {
   "cell_type": "code",
   "execution_count": null,
   "id": "1affb7e4-a6ff-45b0-b2f1-ab1dfdd31feb",
   "metadata": {},
   "outputs": [],
   "source": [
    "import ollama\n",
    "import faiss"
   ]
  },
  {
   "cell_type": "code",
   "execution_count": null,
   "id": "711e58e7-c8a9-435e-add5-fd0f344bcf27",
   "metadata": {},
   "outputs": [],
   "source": [
    "pd.DataFrame({\"all_docs\":all_docs}).to_csv(\"./csv/all_docs.csv\", index=False)"
   ]
  },
  {
   "cell_type": "code",
   "execution_count": null,
   "id": "2c5d9d58-37e7-486e-9bd8-716bac2a82f4",
   "metadata": {},
   "outputs": [],
   "source": [
    "dimension = np.array(ollama.embeddings(model='nomic-embed-text', \n",
    "                                       prompt='The sky is blue because of rayleigh scattering').embedding).shape[0]\n",
    "index = faiss.IndexFlatL2(dimension)"
   ]
  },
  {
   "cell_type": "code",
   "execution_count": null,
   "id": "64e76e2a-7b3a-460d-840f-6675b5ac9617",
   "metadata": {},
   "outputs": [],
   "source": [
    "all_embeddings = []\n",
    "for doc in tqdm(all_docs):\n",
    "    all_embeddings.append(ollama.embeddings(model='nomic-embed-text', prompt=doc).embedding)\n",
    "    # index.add(.expand_dims(x, axis=0))\n"
   ]
  },
  {
   "cell_type": "code",
   "execution_count": null,
   "id": "1ed85b2c-37c8-4ff9-8612-7d4fcd40dfca",
   "metadata": {},
   "outputs": [],
   "source": [
    "all_embeddings = [embed for embed in all_embeddings if len(embed) ==768]\n",
    "print(len(all_embeddings))\n",
    "np.save('all_embeddings.npy', np.array(all_embeddings)) # save"
   ]
  },
  {
   "cell_type": "markdown",
   "id": "5329a926-e4c5-4433-a22e-ae813fd3f665",
   "metadata": {},
   "source": [
    "#### Load the numpy array"
   ]
  },
  {
   "cell_type": "code",
   "execution_count": null,
   "id": "114b7c7c-a11d-4a14-93e2-481959881646",
   "metadata": {},
   "outputs": [],
   "source": [
    "all_embeddings = np.load('all_embeddings.npy') # load\n",
    "index.add(all_embeddings)"
   ]
  },
  {
   "cell_type": "code",
   "execution_count": null,
   "id": "7fba78c9-4b29-4c80-949f-c9247957b3c4",
   "metadata": {},
   "outputs": [],
   "source": [
    "query = \"Ponzi scheme\"\n",
    "query_embedding = np.array(ollama.embeddings(model='nomic-embed-text',prompt=query).embedding)\n",
    "query_embedding = np.expand_dims(query_embedding, axis=0)"
   ]
  },
  {
   "cell_type": "code",
   "execution_count": null,
   "id": "7fa21e43-e547-45bf-8c93-e2d7e94d933f",
   "metadata": {},
   "outputs": [],
   "source": [
    "\n",
    "\n",
    "# Search for top 3 similar articles\n",
    "D, I = index.search(query_embedding, k=5)\n",
    "\n",
    "# Print results\n",
    "for idx in I[0]:\n",
    "    print(f\"=========== Similar News ==========\\n: {all_docs[idx]}\")"
   ]
  },
  {
   "cell_type": "code",
   "execution_count": null,
   "id": "d1639953-5e41-4d5a-b710-ff4bb6d9f1f9",
   "metadata": {},
   "outputs": [],
   "source": []
  },
  {
   "cell_type": "code",
   "execution_count": null,
   "id": "e2ffc38b-9d3c-4864-841f-562d2cc037ed",
   "metadata": {},
   "outputs": [],
   "source": []
  }
 ],
 "metadata": {
  "kernelspec": {
   "display_name": "Python 3 (ipykernel)",
   "language": "python",
   "name": "python3"
  },
  "language_info": {
   "codemirror_mode": {
    "name": "ipython",
    "version": 3
   },
   "file_extension": ".py",
   "mimetype": "text/x-python",
   "name": "python",
   "nbconvert_exporter": "python",
   "pygments_lexer": "ipython3",
   "version": "3.11.11"
  }
 },
 "nbformat": 4,
 "nbformat_minor": 5
}
