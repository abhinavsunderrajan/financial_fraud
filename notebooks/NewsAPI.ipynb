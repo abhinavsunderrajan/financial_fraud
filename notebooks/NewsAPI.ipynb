{
 "cells": [
  {
   "cell_type": "code",
   "execution_count": 1,
   "id": "f7354e80-f9cb-44c4-a9ab-79cc95c24960",
   "metadata": {},
   "outputs": [],
   "source": [
    "from newsapi import NewsApiClient\n",
    "import pandas as pd\n",
    "import requests\n",
    "import json\n",
    "import ollama\n",
    "from bs4 import BeautifulSoup\n",
    "import dotenv\n",
    "import os\n",
    "\n",
    "dotenv.load_dotenv()\n"
   ]
  },
  {
   "cell_type": "code",
   "execution_count": 2,
   "id": "9f10b046-0c70-4fde-8f9d-ff5fa5edf9d3",
   "metadata": {},
   "outputs": [],
   "source": [
    "newsapi = NewsApiClient(api_key=os.getenv('NEWS_API_KEY'))"
   ]
  },
  {
   "cell_type": "code",
   "execution_count": 3,
   "id": "90566b76-7f17-4d12-865a-548e1817e94c",
   "metadata": {},
   "outputs": [
    {
     "name": "stdout",
     "output_type": "stream",
     "text": [
      "67\n"
     ]
    }
   ],
   "source": [
    "# /v2/top-headlines\n",
    "# top_headlines = newsapi.get_top_headlines(q='bitcoin',\n",
    "#                                           sources='bbc-news,the-verge',\n",
    "#                                           # category='business',\n",
    "#                                           language='en',\n",
    "#                                           # country='us'\n",
    "#                                          )\n",
    "\n",
    "# /v2/everything\n",
    "query =\"money laundering\"\n",
    "all_articles = newsapi.get_everything(q=query,\n",
    "                                      from_param='2025-03-03',\n",
    "                                      to='2025-01-01',\n",
    "                                      # sources = 'the-wall-street-journal',\n",
    "                                      language='en',\n",
    "                                      page=5,\n",
    "                                      sort_by='popularity')\n",
    "print(len(all_articles['articles']))\n",
    "if len(all_articles['articles']) >0:\n",
    "    pd.DataFrame(all_articles['articles']).to_csv(f\"./csv/query_{query}.csv\", index=False)\n"
   ]
  },
  {
   "cell_type": "code",
   "execution_count": null,
   "id": "e2f48810-e00b-416a-91cc-0d8188e00ec9",
   "metadata": {},
   "outputs": [],
   "source": []
  }
 ],
 "metadata": {
  "kernelspec": {
   "display_name": "Python 3 (ipykernel)",
   "language": "python",
   "name": "python3"
  },
  "language_info": {
   "codemirror_mode": {
    "name": "ipython",
    "version": 3
   },
   "file_extension": ".py",
   "mimetype": "text/x-python",
   "name": "python",
   "nbconvert_exporter": "python",
   "pygments_lexer": "ipython3",
   "version": "3.11.11"
  }
 },
 "nbformat": 4,
 "nbformat_minor": 5
}
